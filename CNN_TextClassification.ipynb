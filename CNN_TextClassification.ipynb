{
 "cells": [
  {
   "cell_type": "code",
   "execution_count": 1,
   "metadata": {
    "scrolled": true
   },
   "outputs": [
    {
     "name": "stdout",
     "output_type": "stream",
     "text": [
      "18828\n"
     ]
    }
   ],
   "source": [
    "# importing required libraries\n",
    "import os\n",
    "import pandas as pd\n",
    "import numpy as np\n",
    "import re\n",
    "\n",
    "# storing all file names in a list\n",
    "file_names = os.listdir(path='documents/')\n",
    "print(len(file_names))"
   ]
  },
  {
   "cell_type": "code",
   "execution_count": 2,
   "metadata": {},
   "outputs": [
    {
     "name": "stdout",
     "output_type": "stream",
     "text": [
      "The number of unique classes are 20\n"
     ]
    }
   ],
   "source": [
    "# extracting class labels from the file names\n",
    "class_labels = []\n",
    "for file in file_names:\n",
    "    label = file.split('_')[0]\n",
    "    class_labels.append(label)\n",
    "\n",
    "print(f'The number of unique classes are {len(set(class_labels))}')"
   ]
  },
  {
   "cell_type": "code",
   "execution_count": 3,
   "metadata": {},
   "outputs": [
    {
     "data": {
      "text/html": [
       "<div>\n",
       "<style scoped>\n",
       "    .dataframe tbody tr th:only-of-type {\n",
       "        vertical-align: middle;\n",
       "    }\n",
       "\n",
       "    .dataframe tbody tr th {\n",
       "        vertical-align: top;\n",
       "    }\n",
       "\n",
       "    .dataframe thead th {\n",
       "        text-align: right;\n",
       "    }\n",
       "</style>\n",
       "<table border=\"1\" class=\"dataframe\">\n",
       "  <thead>\n",
       "    <tr style=\"text-align: right;\">\n",
       "      <th></th>\n",
       "      <th>file_id</th>\n",
       "      <th>class_label</th>\n",
       "    </tr>\n",
       "  </thead>\n",
       "  <tbody>\n",
       "    <tr>\n",
       "      <th>0</th>\n",
       "      <td>alt.atheism_49960.txt</td>\n",
       "      <td>alt.atheism</td>\n",
       "    </tr>\n",
       "    <tr>\n",
       "      <th>1</th>\n",
       "      <td>alt.atheism_51060.txt</td>\n",
       "      <td>alt.atheism</td>\n",
       "    </tr>\n",
       "    <tr>\n",
       "      <th>2</th>\n",
       "      <td>alt.atheism_51119.txt</td>\n",
       "      <td>alt.atheism</td>\n",
       "    </tr>\n",
       "    <tr>\n",
       "      <th>3</th>\n",
       "      <td>alt.atheism_51120.txt</td>\n",
       "      <td>alt.atheism</td>\n",
       "    </tr>\n",
       "    <tr>\n",
       "      <th>4</th>\n",
       "      <td>alt.atheism_51121.txt</td>\n",
       "      <td>alt.atheism</td>\n",
       "    </tr>\n",
       "  </tbody>\n",
       "</table>\n",
       "</div>"
      ],
      "text/plain": [
       "                 file_id  class_label\n",
       "0  alt.atheism_49960.txt  alt.atheism\n",
       "1  alt.atheism_51060.txt  alt.atheism\n",
       "2  alt.atheism_51119.txt  alt.atheism\n",
       "3  alt.atheism_51120.txt  alt.atheism\n",
       "4  alt.atheism_51121.txt  alt.atheism"
      ]
     },
     "execution_count": 3,
     "metadata": {},
     "output_type": "execute_result"
    }
   ],
   "source": [
    "# creating a data frame to store file id and class labels\n",
    "df = pd.DataFrame(data = {'file_id': file_names,'class_label':class_labels})\n",
    "df.head(5)"
   ]
  },
  {
   "cell_type": "markdown",
   "metadata": {},
   "source": [
    "# Text Processing"
   ]
  },
  {
   "cell_type": "markdown",
   "metadata": {},
   "source": [
    "### Defining Utility Functions"
   ]
  },
  {
   "cell_type": "markdown",
   "metadata": {},
   "source": [
    "In this section we will be defining all the necessary utility functions required in order to perform text preprocessing."
   ]
  },
  {
   "cell_type": "code",
   "execution_count": 4,
   "metadata": {},
   "outputs": [],
   "source": [
    "def email_processing(document):\n",
    "    '''\n",
    "    This function takes a document as input and \n",
    "    returns pre-processed emails as its output\n",
    "    '''\n",
    "    \n",
    "    # compiling pattern to search for \n",
    "    # reference https://stackoverflow.com/questions/17681670/extract-email-sub-strings-from-large-document\n",
    "    pattern = re.compile(r'[\\w\\.-]+@[\\w\\.-]+\\.\\w+')\n",
    "    email_list = re.findall(pattern,document)\n",
    "    \n",
    "    # preprocessing all the emails found to get the final output\n",
    "    output_list = []\n",
    "    for email in email_list:\n",
    "        domain = (email.split('@')[1]).split('.') # extracting domain name and splitting based on .\n",
    "        temp_list = [x for x in domain if len(x) > 2 and x!= 'com'] # removing characters based on conditions\n",
    "        output_list.extend(temp_list)\n",
    "    \n",
    "    # combining all characters into a single string\n",
    "    output = ' '.join(output_list)\n",
    "    \n",
    "    # converting all characters to lowercase\n",
    "    output = output.lower()\n",
    "    \n",
    "    # removing all emails found from the document\n",
    "    document = re.sub(pattern,' ',document)\n",
    "        \n",
    "    return output, document\n",
    "    "
   ]
  },
  {
   "cell_type": "code",
   "execution_count": 5,
   "metadata": {},
   "outputs": [],
   "source": [
    "def subject_processing(document):\n",
    "    '''    \n",
    "    This function takes a document as input and \n",
    "    returns pre-processed emails as its output\n",
    "    '''\n",
    "    \n",
    "    # looping through each line in our document to find subject line\n",
    "    for line in document.split('\\n'):\n",
    "        if line.startswith('Subject:'):\n",
    "            sub_line = line\n",
    "            break\n",
    "    \n",
    "    # extracting only words after ':' in subject   \n",
    "    processed_sub = sub_line.split(':')[-1] \n",
    "    \n",
    "    # removing special characters etc from subject line\n",
    "    processed_sub = re.sub('\\\\r', ' ', processed_sub)\n",
    "    processed_sub = re.sub('\\\\n', ' ', processed_sub)\n",
    "    processed_sub = re.sub('\\\\t', ' ', processed_sub)\n",
    "    processed_sub = re.sub('[^A-Za-z]+',' ',processed_sub)\n",
    "    processed_sub = processed_sub.strip() \n",
    "    \n",
    "    # converting all characters to lowercase\n",
    "    processed_sub = processed_sub.lower()\n",
    "    \n",
    "    # removing subject line from document\n",
    "    document = document.replace(sub_line,' ')\n",
    "    \n",
    "    \n",
    "    return processed_sub,document"
   ]
  },
  {
   "cell_type": "code",
   "execution_count": 6,
   "metadata": {
    "scrolled": true
   },
   "outputs": [],
   "source": [
    "def remove_from_to(document):\n",
    "    '''\n",
    "    This function removes those lines which start with \"from:\"\n",
    "    and \"write to:\"\n",
    "    '''\n",
    "    \n",
    "    processed_document = document\n",
    "    \n",
    "    # looping through the document to check if any sentences start with 'from:' or 'write to:'\n",
    "    for line in document.split('\\n'):\n",
    "        if line.startswith('From:') or line.startswith('Write to:'):\n",
    "            # removing those sentences from processed document\n",
    "            processed_document = processed_document.replace(line, ' ')\n",
    "    \n",
    "    return processed_document        "
   ]
  },
  {
   "cell_type": "code",
   "execution_count": 7,
   "metadata": {},
   "outputs": [],
   "source": [
    "# https://stackoverflow.com/a/47091490/4084039\n",
    "def decontracted(phrase):\n",
    "    '''\n",
    "    This function decontracts words like won't to will not\n",
    "    '''\n",
    "\n",
    "    # specific\n",
    "    phrase = re.sub(r\"won't\", \"will not\", phrase)\n",
    "    phrase = re.sub(r\"can\\'t\", \"can not\", phrase)\n",
    "\n",
    "    # general\n",
    "    phrase = re.sub(r\"n\\'t\", \" not\", phrase)\n",
    "    phrase = re.sub(r\"\\'re\", \" are\", phrase)\n",
    "    phrase = re.sub(r\"\\'s\", \" is\", phrase)\n",
    "    phrase = re.sub(r\"\\'d\", \" would\", phrase)\n",
    "    phrase = re.sub(r\"\\'ll\", \" will\", phrase)\n",
    "    phrase = re.sub(r\"\\'t\", \" not\", phrase)\n",
    "    phrase = re.sub(r\"\\'ve\", \" have\", phrase)\n",
    "    phrase = re.sub(r\"\\'m\", \" am\", phrase)\n",
    "    \n",
    "    return phrase"
   ]
  },
  {
   "cell_type": "code",
   "execution_count": 8,
   "metadata": {},
   "outputs": [],
   "source": [
    "from nltk import ne_chunk, pos_tag, word_tokenize, sent_tokenize \n",
    "\n",
    "# https://stackoverflow.com/questions/31836058/nltk-named-entity-recognition-to-a-python-list/31837224#31837224\n",
    "def chunking(document):\n",
    "    '''\n",
    "    This function chunks the document in order to remove any names(person)\n",
    "    and to combine named entities having spaces with '_'\n",
    "    '''\n",
    "    \n",
    "    named_entities = [] # list to store all named entities other than person\n",
    "    person = []\n",
    "    \n",
    "    # tokenizing document into sentences\n",
    "    for sent in sent_tokenize(document):\n",
    "        # getting the named entity chunks after POS tagging\n",
    "        for chunk in ne_chunk(pos_tag(word_tokenize(sent))):\n",
    "            if hasattr(chunk,'label'):\n",
    "                entity = ' '.join(c[0] for c in chunk)\n",
    "                # filtering out named entities which are not a person but need to be combined\n",
    "                if chunk.label() != 'PERSON' and len(entity.split()) > 1:\n",
    "                    named_entities.append(entity)\n",
    "                elif chunk.label() == 'PERSON':\n",
    "                    person.append(entity)\n",
    "    \n",
    "    # removing person entities from the document\n",
    "    for name in person:\n",
    "        document = document.replace(name,' ')\n",
    "    \n",
    "    # combining other named entities with '_'\n",
    "    for ent in named_entities:\n",
    "        join_ent = '_'.join(ent.split())\n",
    "        document = document.replace(ent,join_ent)\n",
    "    \n",
    "    return document\n",
    "        "
   ]
  },
  {
   "cell_type": "code",
   "execution_count": 9,
   "metadata": {},
   "outputs": [],
   "source": [
    "def remove_underscore(document):\n",
    "    '''\n",
    "    This function helps to remove underscores from words in the\n",
    "    document\n",
    "    '''\n",
    "    \n",
    "    # finding words with '_' at the beginning as well as end\n",
    "    pattern_1 = re.compile(r'\\b_[^_\\s]+_\\b')\n",
    "    words_1 = re.findall(pattern_1,document)\n",
    "    \n",
    "    # finding words with '_' only at the beginning\n",
    "    pattern_2 = re.compile(r'\\b_[^_\\s]+\\b')\n",
    "    words_2 = re.findall(pattern_2,document)\n",
    "    \n",
    "    # finding words with '_' only at the end\n",
    "    pattern_3 = re.compile(r'\\b[^_\\s]+_\\b')\n",
    "    words_3 = re.findall(pattern_3,document)\n",
    "    \n",
    "    # combining all words found and removing underscores from them\n",
    "    all_words = words_1 + words_2 + words_3\n",
    "    \n",
    "    for word in all_words:\n",
    "        updated_word = word.replace('_','')\n",
    "        document = document.replace(word,updated_word)\n",
    "    \n",
    "    return document    "
   ]
  },
  {
   "cell_type": "code",
   "execution_count": 10,
   "metadata": {},
   "outputs": [],
   "source": [
    "def remove_before_underscore(document):\n",
    "    '''\n",
    "    This function removes words before underscores\n",
    "    which have less than or equal to 2 characters\n",
    "    '''\n",
    "    \n",
    "    # finding words which have 1 or 2 characters before an underscore\n",
    "    pattern = re.compile(r'\\b[^_\\s]{1,2}_[^_\\s]+\\b')\n",
    "\n",
    "    words = re.findall(pattern,document)\n",
    "    \n",
    "    # removing characters before underscore\n",
    "    for word in words:\n",
    "        updated_word = word.split('_')[1]\n",
    "        document = document.replace(word,updated_word)\n",
    "    \n",
    "    return document\n",
    "    "
   ]
  },
  {
   "cell_type": "code",
   "execution_count": 11,
   "metadata": {},
   "outputs": [],
   "source": [
    "def final_processing(document):\n",
    "    '''\n",
    "    In this function we will perform the final pre processing steps\n",
    "    required on our text data\n",
    "    '''\n",
    "    \n",
    "    # convert all words to lowercase\n",
    "    document = document.lower()\n",
    "    \n",
    "    # removing all words less than 2 or greater than 15\n",
    "    # https://www.daniweb.com/programming/software-development/threads/382016/remove-words-with-less-than-n-letters-from-wordlist\n",
    "    document = ' '.join([x for x in document.split() if 2 < len(x) < 15])\n",
    "    \n",
    "    # ensuring that our document contains only [A-Za-z_]\n",
    "    pattern = re.compile(r'[^A-Za-z_]')\n",
    "    document = re.sub(pattern,' ',document)\n",
    "    \n",
    "    # stripping any spaces at the end and joining all words again to ensure there are no spaces \n",
    "    document = ' '.join(document.split())\n",
    "    document = document.strip()\n",
    "    \n",
    "    return document\n",
    "    \n",
    "    "
   ]
  },
  {
   "cell_type": "code",
   "execution_count": 12,
   "metadata": {},
   "outputs": [],
   "source": [
    "def text_processing(input_text):\n",
    "    '''\n",
    "    This function performs all the preprocessing steps \n",
    "    required in order to convert raw text data into final \n",
    "    preprocessed form\n",
    "    '''\n",
    "    \n",
    "    # email preprocessing \n",
    "    processed_emails, processed_text = email_processing(input_text)\n",
    "    \n",
    "    # subject preprocessing\n",
    "    processed_subjects, processed_text = subject_processing(processed_text)\n",
    "    \n",
    "    # removing sentences which start with from or write to\n",
    "    processed_text = remove_from_to(processed_text)\n",
    "    \n",
    "    # miscellaneous preprocessing steps\n",
    "    processed_text =  re.sub(r'<.*\\>',' ',processed_text) # removes words angular brackets \"<>\"\n",
    "    processed_text =  re.sub(r'\\([^)]+\\)',' ',processed_text) # removes words in paranthesis \"()\"\n",
    "    processed_text =  re.sub(r'\\b[\\w]+:',' ',processed_text) # removes words that end with \":\"\n",
    "    \n",
    "    # removing tabs, newlines etc.\n",
    "    processed_text = re.sub(r'\\\\',' ',processed_text)\n",
    "    processed_text = re.sub(r'\\t',' ',processed_text)\n",
    "    processed_text = re.sub(r'\\n',' ',processed_text)\n",
    "    processed_text = re.sub(r'-',' ',processed_text)\n",
    "    \n",
    "    # decontracting of words\n",
    "    processed_text = decontracted(processed_text)\n",
    "    \n",
    "    # chunking of text \n",
    "    processed_text = chunking(processed_text)\n",
    "    \n",
    "    # replacing all digits with space \n",
    "    processed_text = re.sub(r'[0-9]',' ',processed_text)\n",
    "    \n",
    "    # removing underscores from words\n",
    "    processed_text = remove_underscore(processed_text)\n",
    "    \n",
    "    # removing characters before an underscore\n",
    "    processed_text = remove_before_underscore(processed_text)\n",
    "    \n",
    "    # performing final processing step \n",
    "    processed_text = final_processing(processed_text)\n",
    "    \n",
    "    return processed_emails, processed_subjects, processed_text"
   ]
  },
  {
   "cell_type": "markdown",
   "metadata": {},
   "source": [
    "## Sample Preprocessing"
   ]
  },
  {
   "cell_type": "markdown",
   "metadata": {},
   "source": [
    "We will be applying the above text processing function defined on a sample document **'alt.atheism_49960'**"
   ]
  },
  {
   "cell_type": "code",
   "execution_count": 13,
   "metadata": {},
   "outputs": [
    {
     "name": "stdout",
     "output_type": "stream",
     "text": [
      "Emails:\n",
      "\n",
      "mantis netcom mantis\n",
      "\n",
      "Subject:\n",
      "\n",
      "atheist resources\n",
      "\n",
      "Processed Text:\n",
      "\n",
      "archive alt atheism archive resources last december atheist resources addresses usa freedom from religion foundation fish bumper stickers and assorted other atheist paraphernalia are available from the the us evolution designs evolution designs sell the fish fish symbol like the ones stick their cars but with feet and the word written inside the deluxe moulded plastic fish postpaid the us people the area can get fish from try mailing for net people who directly the price per fish american atheist press aap publish various atheist books critiques the bible lists biblical and on one such book the w p ball and g w foote american pp isbn edition bible absurdities atrocities contains ball the aap based the king version the bible austin prometheus books sell books including holy_horrors alternate address prometheus african americans_for humanism organization promoting black secular humanism and uncovering the history black freethought they publish quarterly newsletter aah examiner united kingdom rationalist press association street holloway road london london british humanist association south place ethical society lamb conduit passage conway hall london red lion square london fax the publish the freethinker monthly magazine founded germany ibka e v der und berlin germany ibka publish miz miz postfach berlin germany for atheist books write ibdk b ucherdienst der hannover germany fiction thomas disch the claus compromise short story the ultimate proof that exists all characters and events are fictitious any similarity living dead gods uh well walter miller canticle for leibowitz one gem this post atomic doomsday novel the monks who spent their lives copying blueprints from saint leibowitz filling the sheets paper with ink and leaving white lines and letters edgar pangborn davy post atomic doomsday novel set clerical states the church for example forbids that anyone produce describe use any substance containing atoms philip dick wrote many philosophical and thought provoking short stories and novels his stories are bizarre times but very approachable wrote mainly sf but wrote about people truth and religion rather than technology although often believed that had met some sort remained sceptical amongst his novels the following are some fallible alien deity summons group craftsmen and women remote planet raise giant cathedral from beneath the oceans when the deity begins demand faith from the earthers pot healer unable comply polished ironic and amusing novel maze death noteworthy for its description technology based religion valis the schizophrenic hero searches for the hidden mysteries gnostic ity after reality fired into his brain pink laser beam unknown but possibly divine origin accompanied his dogmatic and dismissively atheist friend and assorted other odd characters the invades making young woman pregnant she returns from another star system unfortunately she terminally ill and must assisted dead man whose brain wired hour easy listening music margaret atwood the handmaid story based the premise that the congress mysteriously assassinated and quickly take charge the nation set right again the book the diary woman life she tries live under the new theocracy women right own property revoked and their bank accounts are closed sinful luxuries are outlawed and the radio only used for readings from the bible crimes are punished doctors who performed legal abortions the old world are hunted down and hanged atwood writing style difficult get used first but the tale grows more and more chilling goes on various authors the bible this somewhat dull and rambling work has often been criticized however probably worth reading only that you will know what all the fuss about exists many different versions make sure you get the one true version non fiction peter_de rosa vicars christ although seems even catholic this very enlighting history papal immoralities adulteries fallacies etc michael martin philosophical philadelphia usa detailed and scholarly justification atheism contains outstanding appendix defining terminology and usage this tendentious area argues both for negative atheism and also for positive atheism includes great refutations the most challenging arguments for god particular attention paid refuting contempory theists such and swinburne pages isbn the case_against ity comprehensive critique ity which considers the best contemporary defences ity and demonstrates that they are unsupportable and or incoherent pages isbn turner the baltimore md usa subtitled the origins unbelief america examines the way which unbelief became mainstream alternative world view focusses the period and while considering france and britain the emphasis american and particularly new_england developments neither religious history secularization atheism is rather the intellectual history the fate single idea the belief that exists pages isbn george seldes the great thoughts ballantine new_york usa dictionary quotations different kind concentrating statements and writings which explicitly implicitly present the person philosophy and world view includes obscure opinions from many people for some popular observations traces the way which various people expressed and twisted the idea over the centuries quite number the quotations are derived from cardiff what religion and views religion pages isbn richard swinburne the existence oxford this book the second volume trilogy that began with the coherence theism and was concluded with and this work swinburne attempts construct series inductive arguments for the existence his arguments which are somewhat tendentious and rely upon the imputation late century western values and aesthetics which supposedly simple can conceived were decisively rejected the miracle theism the revised edition the existence swinburne includes appendix which makes somewhat incoherent attempt rebut mackie the miracle theism oxford this volume contains comprehensive review the principal arguments for and against the existence ranges from the classical philosophical positions descartes anselm al through the moral arguments newman kant and the recent restatements the classical theses and swinburne also addresses those positions which push the concept beyond the realm the rational such those kierkegaard and well replacements for such axiarchism the book delight read less formalistic and better written than works and refreshingly direct when compared with the hand waving swinburne haught holy illustrated history and madness prometheus looks religious persecution from ancient times the present day and not only library number norm allen jr anthology see the listing for for humanism above gordon stein an anthology atheism and rationalism prometheus anthology covering wide range subjects including the devil and morality and the history freethought comprehensive bibliography edmund cohen the mind the prometheus study why people become and what effect has them net resources there small mail based archive server mantis co uk which carries archives old articles and assorted other files for more information send mail saying help send atheism index and will mail back reply mathew\n"
     ]
    }
   ],
   "source": [
    "with open('documents/alt.atheism_49960.txt') as f:\n",
    "    text = f.read()\n",
    "    email, subject, proc_text = text_processing(text)\n",
    "    print('Emails:')\n",
    "    print('')\n",
    "    print(email)\n",
    "    print('')\n",
    "    print('Subject:')\n",
    "    print('')\n",
    "    print(subject)\n",
    "    print('')\n",
    "    print('Processed Text:')\n",
    "    print('')\n",
    "    print(proc_text)\n"
   ]
  },
  {
   "cell_type": "markdown",
   "metadata": {},
   "source": [
    "## Processing All Documents"
   ]
  },
  {
   "cell_type": "markdown",
   "metadata": {},
   "source": [
    "Now we will be processing all documents and storing them in a dataframe"
   ]
  },
  {
   "cell_type": "code",
   "execution_count": 14,
   "metadata": {},
   "outputs": [
    {
     "name": "stderr",
     "output_type": "stream",
     "text": [
      "100%|████████████████████████████████████████████████████████████████████████████| 18828/18828 [23:00<00:00, 13.64it/s]\n"
     ]
    }
   ],
   "source": [
    "from tqdm import tqdm\n",
    "\n",
    "raw_text_list = []\n",
    "processed_emails_list = []\n",
    "processed_subjects_list = []\n",
    "processed_documents_list = []\n",
    "\n",
    "# looping through all the documents and processing them \n",
    "for file in tqdm(df['file_id']):\n",
    "    with open(f'documents/{file}') as f:\n",
    "        document_text = f.read()\n",
    "        processed_email, processed_subject, processed_document = text_processing(document_text)\n",
    "        \n",
    "        # appending to appropriate lists defined above\n",
    "        raw_text_list.append(document_text)\n",
    "        processed_emails_list.append(processed_email)\n",
    "        processed_subjects_list.append(processed_subject)\n",
    "        processed_documents_list.append(processed_document)        "
   ]
  },
  {
   "cell_type": "code",
   "execution_count": 15,
   "metadata": {
    "scrolled": true
   },
   "outputs": [
    {
     "data": {
      "text/html": [
       "<div>\n",
       "<style scoped>\n",
       "    .dataframe tbody tr th:only-of-type {\n",
       "        vertical-align: middle;\n",
       "    }\n",
       "\n",
       "    .dataframe tbody tr th {\n",
       "        vertical-align: top;\n",
       "    }\n",
       "\n",
       "    .dataframe thead th {\n",
       "        text-align: right;\n",
       "    }\n",
       "</style>\n",
       "<table border=\"1\" class=\"dataframe\">\n",
       "  <thead>\n",
       "    <tr style=\"text-align: right;\">\n",
       "      <th></th>\n",
       "      <th>file_id</th>\n",
       "      <th>class_label</th>\n",
       "      <th>text</th>\n",
       "      <th>processed_email</th>\n",
       "      <th>processed_subject</th>\n",
       "      <th>processed_text</th>\n",
       "    </tr>\n",
       "  </thead>\n",
       "  <tbody>\n",
       "    <tr>\n",
       "      <th>0</th>\n",
       "      <td>alt.atheism_49960.txt</td>\n",
       "      <td>alt.atheism</td>\n",
       "      <td>From: mathew &lt;mathew@mantis.co.uk&gt;\\nSubject: A...</td>\n",
       "      <td>mantis netcom mantis</td>\n",
       "      <td>atheist resources</td>\n",
       "      <td>archive alt atheism archive resources last dec...</td>\n",
       "    </tr>\n",
       "    <tr>\n",
       "      <th>1</th>\n",
       "      <td>alt.atheism_51060.txt</td>\n",
       "      <td>alt.atheism</td>\n",
       "      <td>From: mathew &lt;mathew@mantis.co.uk&gt;\\nSubject: A...</td>\n",
       "      <td>mantis mantis mantis</td>\n",
       "      <td>introduction to atheism</td>\n",
       "      <td>archive alt atheism archive introduction last ...</td>\n",
       "    </tr>\n",
       "    <tr>\n",
       "      <th>2</th>\n",
       "      <td>alt.atheism_51119.txt</td>\n",
       "      <td>alt.atheism</td>\n",
       "      <td>From: I3150101@dbstu1.rz.tu-bs.de (Benedikt Ro...</td>\n",
       "      <td>dbstu1 tu-bs mimsy umd edu umd edu</td>\n",
       "      <td>gospel dating</td>\n",
       "      <td>article well has quite different not necessari...</td>\n",
       "    </tr>\n",
       "    <tr>\n",
       "      <th>3</th>\n",
       "      <td>alt.atheism_51120.txt</td>\n",
       "      <td>alt.atheism</td>\n",
       "      <td>From: mathew &lt;mathew@mantis.co.uk&gt;\\nSubject: R...</td>\n",
       "      <td>mantis kepler unh edu</td>\n",
       "      <td>university violating separation of church state</td>\n",
       "      <td>recently ras have been ordered post religious ...</td>\n",
       "    </tr>\n",
       "    <tr>\n",
       "      <th>4</th>\n",
       "      <td>alt.atheism_51121.txt</td>\n",
       "      <td>alt.atheism</td>\n",
       "      <td>From: strom@Watson.Ibm.Com (Rob Strom)\\nSubjec...</td>\n",
       "      <td>watson ibm com harder ccr-p ida org harder ccr...</td>\n",
       "      <td>soc motss et al princeton axes matching funds ...</td>\n",
       "      <td>article however hate economic terrorism and po...</td>\n",
       "    </tr>\n",
       "  </tbody>\n",
       "</table>\n",
       "</div>"
      ],
      "text/plain": [
       "                 file_id  class_label  \\\n",
       "0  alt.atheism_49960.txt  alt.atheism   \n",
       "1  alt.atheism_51060.txt  alt.atheism   \n",
       "2  alt.atheism_51119.txt  alt.atheism   \n",
       "3  alt.atheism_51120.txt  alt.atheism   \n",
       "4  alt.atheism_51121.txt  alt.atheism   \n",
       "\n",
       "                                                text  \\\n",
       "0  From: mathew <mathew@mantis.co.uk>\\nSubject: A...   \n",
       "1  From: mathew <mathew@mantis.co.uk>\\nSubject: A...   \n",
       "2  From: I3150101@dbstu1.rz.tu-bs.de (Benedikt Ro...   \n",
       "3  From: mathew <mathew@mantis.co.uk>\\nSubject: R...   \n",
       "4  From: strom@Watson.Ibm.Com (Rob Strom)\\nSubjec...   \n",
       "\n",
       "                                     processed_email  \\\n",
       "0                               mantis netcom mantis   \n",
       "1                               mantis mantis mantis   \n",
       "2                 dbstu1 tu-bs mimsy umd edu umd edu   \n",
       "3                              mantis kepler unh edu   \n",
       "4  watson ibm com harder ccr-p ida org harder ccr...   \n",
       "\n",
       "                                   processed_subject  \\\n",
       "0                                  atheist resources   \n",
       "1                            introduction to atheism   \n",
       "2                                      gospel dating   \n",
       "3    university violating separation of church state   \n",
       "4  soc motss et al princeton axes matching funds ...   \n",
       "\n",
       "                                      processed_text  \n",
       "0  archive alt atheism archive resources last dec...  \n",
       "1  archive alt atheism archive introduction last ...  \n",
       "2  article well has quite different not necessari...  \n",
       "3  recently ras have been ordered post religious ...  \n",
       "4  article however hate economic terrorism and po...  "
      ]
     },
     "execution_count": 15,
     "metadata": {},
     "output_type": "execute_result"
    }
   ],
   "source": [
    "# adding processed data to dataframe\n",
    "df['text'] = raw_text_list\n",
    "df['processed_email'] = processed_emails_list\n",
    "df['processed_subject'] = processed_subjects_list\n",
    "df['processed_text'] = processed_documents_list\n",
    "df.head(5)"
   ]
  },
  {
   "cell_type": "code",
   "execution_count": 16,
   "metadata": {},
   "outputs": [],
   "source": [
    "# dumping the dataframe to a pickle file\n",
    "df.to_pickle(\"final_df.pkl\")"
   ]
  },
  {
   "cell_type": "markdown",
   "metadata": {},
   "source": [
    "# Loading & Preparing Data"
   ]
  },
  {
   "cell_type": "code",
   "execution_count": 4,
   "metadata": {},
   "outputs": [
    {
     "data": {
      "text/html": [
       "<div>\n",
       "<style scoped>\n",
       "    .dataframe tbody tr th:only-of-type {\n",
       "        vertical-align: middle;\n",
       "    }\n",
       "\n",
       "    .dataframe tbody tr th {\n",
       "        vertical-align: top;\n",
       "    }\n",
       "\n",
       "    .dataframe thead th {\n",
       "        text-align: right;\n",
       "    }\n",
       "</style>\n",
       "<table border=\"1\" class=\"dataframe\">\n",
       "  <thead>\n",
       "    <tr style=\"text-align: right;\">\n",
       "      <th></th>\n",
       "      <th>file_id</th>\n",
       "      <th>class_label</th>\n",
       "      <th>text</th>\n",
       "      <th>processed_email</th>\n",
       "      <th>processed_subject</th>\n",
       "      <th>processed_text</th>\n",
       "    </tr>\n",
       "  </thead>\n",
       "  <tbody>\n",
       "    <tr>\n",
       "      <th>0</th>\n",
       "      <td>alt.atheism_49960.txt</td>\n",
       "      <td>alt.atheism</td>\n",
       "      <td>From: mathew &lt;mathew@mantis.co.uk&gt;\\nSubject: A...</td>\n",
       "      <td>mantis netcom mantis</td>\n",
       "      <td>atheist resources</td>\n",
       "      <td>archive alt atheism archive resources last dec...</td>\n",
       "    </tr>\n",
       "    <tr>\n",
       "      <th>1</th>\n",
       "      <td>alt.atheism_51060.txt</td>\n",
       "      <td>alt.atheism</td>\n",
       "      <td>From: mathew &lt;mathew@mantis.co.uk&gt;\\nSubject: A...</td>\n",
       "      <td>mantis mantis mantis</td>\n",
       "      <td>introduction to atheism</td>\n",
       "      <td>archive alt atheism archive introduction last ...</td>\n",
       "    </tr>\n",
       "    <tr>\n",
       "      <th>2</th>\n",
       "      <td>alt.atheism_51119.txt</td>\n",
       "      <td>alt.atheism</td>\n",
       "      <td>From: I3150101@dbstu1.rz.tu-bs.de (Benedikt Ro...</td>\n",
       "      <td>dbstu1 tu-bs mimsy umd edu umd edu</td>\n",
       "      <td>gospel dating</td>\n",
       "      <td>article well has quite different not necessari...</td>\n",
       "    </tr>\n",
       "    <tr>\n",
       "      <th>3</th>\n",
       "      <td>alt.atheism_51120.txt</td>\n",
       "      <td>alt.atheism</td>\n",
       "      <td>From: mathew &lt;mathew@mantis.co.uk&gt;\\nSubject: R...</td>\n",
       "      <td>mantis kepler unh edu</td>\n",
       "      <td>university violating separation of church state</td>\n",
       "      <td>recently ras have been ordered post religious ...</td>\n",
       "    </tr>\n",
       "    <tr>\n",
       "      <th>4</th>\n",
       "      <td>alt.atheism_51121.txt</td>\n",
       "      <td>alt.atheism</td>\n",
       "      <td>From: strom@Watson.Ibm.Com (Rob Strom)\\nSubjec...</td>\n",
       "      <td>watson ibm com harder ccr-p ida org harder ccr...</td>\n",
       "      <td>soc motss et al princeton axes matching funds ...</td>\n",
       "      <td>article however hate economic terrorism and po...</td>\n",
       "    </tr>\n",
       "  </tbody>\n",
       "</table>\n",
       "</div>"
      ],
      "text/plain": [
       "                 file_id  class_label  \\\n",
       "0  alt.atheism_49960.txt  alt.atheism   \n",
       "1  alt.atheism_51060.txt  alt.atheism   \n",
       "2  alt.atheism_51119.txt  alt.atheism   \n",
       "3  alt.atheism_51120.txt  alt.atheism   \n",
       "4  alt.atheism_51121.txt  alt.atheism   \n",
       "\n",
       "                                                text  \\\n",
       "0  From: mathew <mathew@mantis.co.uk>\\nSubject: A...   \n",
       "1  From: mathew <mathew@mantis.co.uk>\\nSubject: A...   \n",
       "2  From: I3150101@dbstu1.rz.tu-bs.de (Benedikt Ro...   \n",
       "3  From: mathew <mathew@mantis.co.uk>\\nSubject: R...   \n",
       "4  From: strom@Watson.Ibm.Com (Rob Strom)\\nSubjec...   \n",
       "\n",
       "                                     processed_email  \\\n",
       "0                               mantis netcom mantis   \n",
       "1                               mantis mantis mantis   \n",
       "2                 dbstu1 tu-bs mimsy umd edu umd edu   \n",
       "3                              mantis kepler unh edu   \n",
       "4  watson ibm com harder ccr-p ida org harder ccr...   \n",
       "\n",
       "                                   processed_subject  \\\n",
       "0                                  atheist resources   \n",
       "1                            introduction to atheism   \n",
       "2                                      gospel dating   \n",
       "3    university violating separation of church state   \n",
       "4  soc motss et al princeton axes matching funds ...   \n",
       "\n",
       "                                      processed_text  \n",
       "0  archive alt atheism archive resources last dec...  \n",
       "1  archive alt atheism archive introduction last ...  \n",
       "2  article well has quite different not necessari...  \n",
       "3  recently ras have been ordered post religious ...  \n",
       "4  article however hate economic terrorism and po...  "
      ]
     },
     "execution_count": 4,
     "metadata": {},
     "output_type": "execute_result"
    }
   ],
   "source": [
    "# loading saved pickle file\n",
    "import numpy as np\n",
    "import pandas as pd\n",
    "import tensorflow as tf\n",
    "\n",
    "data = pd.read_pickle('final_df.pkl')\n",
    "data.head(5)"
   ]
  },
  {
   "cell_type": "code",
   "execution_count": 5,
   "metadata": {},
   "outputs": [
    {
     "data": {
      "text/html": [
       "<div>\n",
       "<style scoped>\n",
       "    .dataframe tbody tr th:only-of-type {\n",
       "        vertical-align: middle;\n",
       "    }\n",
       "\n",
       "    .dataframe tbody tr th {\n",
       "        vertical-align: top;\n",
       "    }\n",
       "\n",
       "    .dataframe thead th {\n",
       "        text-align: right;\n",
       "    }\n",
       "</style>\n",
       "<table border=\"1\" class=\"dataframe\">\n",
       "  <thead>\n",
       "    <tr style=\"text-align: right;\">\n",
       "      <th></th>\n",
       "      <th>file_id</th>\n",
       "      <th>class_label</th>\n",
       "      <th>text</th>\n",
       "      <th>processed_email</th>\n",
       "      <th>processed_subject</th>\n",
       "      <th>processed_text</th>\n",
       "      <th>combined_text</th>\n",
       "    </tr>\n",
       "  </thead>\n",
       "  <tbody>\n",
       "    <tr>\n",
       "      <th>0</th>\n",
       "      <td>alt.atheism_49960.txt</td>\n",
       "      <td>alt.atheism</td>\n",
       "      <td>From: mathew &lt;mathew@mantis.co.uk&gt;\\nSubject: A...</td>\n",
       "      <td>mantis netcom mantis</td>\n",
       "      <td>atheist resources</td>\n",
       "      <td>archive alt atheism archive resources last dec...</td>\n",
       "      <td>mantis netcom mantis atheist resources archive...</td>\n",
       "    </tr>\n",
       "    <tr>\n",
       "      <th>1</th>\n",
       "      <td>alt.atheism_51060.txt</td>\n",
       "      <td>alt.atheism</td>\n",
       "      <td>From: mathew &lt;mathew@mantis.co.uk&gt;\\nSubject: A...</td>\n",
       "      <td>mantis mantis mantis</td>\n",
       "      <td>introduction to atheism</td>\n",
       "      <td>archive alt atheism archive introduction last ...</td>\n",
       "      <td>mantis mantis mantis introduction to atheism a...</td>\n",
       "    </tr>\n",
       "    <tr>\n",
       "      <th>2</th>\n",
       "      <td>alt.atheism_51119.txt</td>\n",
       "      <td>alt.atheism</td>\n",
       "      <td>From: I3150101@dbstu1.rz.tu-bs.de (Benedikt Ro...</td>\n",
       "      <td>dbstu1 tu-bs mimsy umd edu umd edu</td>\n",
       "      <td>gospel dating</td>\n",
       "      <td>article well has quite different not necessari...</td>\n",
       "      <td>dbstu1 tu-bs mimsy umd edu umd edu gospel dati...</td>\n",
       "    </tr>\n",
       "    <tr>\n",
       "      <th>3</th>\n",
       "      <td>alt.atheism_51120.txt</td>\n",
       "      <td>alt.atheism</td>\n",
       "      <td>From: mathew &lt;mathew@mantis.co.uk&gt;\\nSubject: R...</td>\n",
       "      <td>mantis kepler unh edu</td>\n",
       "      <td>university violating separation of church state</td>\n",
       "      <td>recently ras have been ordered post religious ...</td>\n",
       "      <td>mantis kepler unh edu university violating sep...</td>\n",
       "    </tr>\n",
       "    <tr>\n",
       "      <th>4</th>\n",
       "      <td>alt.atheism_51121.txt</td>\n",
       "      <td>alt.atheism</td>\n",
       "      <td>From: strom@Watson.Ibm.Com (Rob Strom)\\nSubjec...</td>\n",
       "      <td>watson ibm com harder ccr-p ida org harder ccr...</td>\n",
       "      <td>soc motss et al princeton axes matching funds ...</td>\n",
       "      <td>article however hate economic terrorism and po...</td>\n",
       "      <td>watson ibm com harder ccr-p ida org harder ccr...</td>\n",
       "    </tr>\n",
       "  </tbody>\n",
       "</table>\n",
       "</div>"
      ],
      "text/plain": [
       "                 file_id  class_label  \\\n",
       "0  alt.atheism_49960.txt  alt.atheism   \n",
       "1  alt.atheism_51060.txt  alt.atheism   \n",
       "2  alt.atheism_51119.txt  alt.atheism   \n",
       "3  alt.atheism_51120.txt  alt.atheism   \n",
       "4  alt.atheism_51121.txt  alt.atheism   \n",
       "\n",
       "                                                text  \\\n",
       "0  From: mathew <mathew@mantis.co.uk>\\nSubject: A...   \n",
       "1  From: mathew <mathew@mantis.co.uk>\\nSubject: A...   \n",
       "2  From: I3150101@dbstu1.rz.tu-bs.de (Benedikt Ro...   \n",
       "3  From: mathew <mathew@mantis.co.uk>\\nSubject: R...   \n",
       "4  From: strom@Watson.Ibm.Com (Rob Strom)\\nSubjec...   \n",
       "\n",
       "                                     processed_email  \\\n",
       "0                               mantis netcom mantis   \n",
       "1                               mantis mantis mantis   \n",
       "2                 dbstu1 tu-bs mimsy umd edu umd edu   \n",
       "3                              mantis kepler unh edu   \n",
       "4  watson ibm com harder ccr-p ida org harder ccr...   \n",
       "\n",
       "                                   processed_subject  \\\n",
       "0                                  atheist resources   \n",
       "1                            introduction to atheism   \n",
       "2                                      gospel dating   \n",
       "3    university violating separation of church state   \n",
       "4  soc motss et al princeton axes matching funds ...   \n",
       "\n",
       "                                      processed_text  \\\n",
       "0  archive alt atheism archive resources last dec...   \n",
       "1  archive alt atheism archive introduction last ...   \n",
       "2  article well has quite different not necessari...   \n",
       "3  recently ras have been ordered post religious ...   \n",
       "4  article however hate economic terrorism and po...   \n",
       "\n",
       "                                       combined_text  \n",
       "0  mantis netcom mantis atheist resources archive...  \n",
       "1  mantis mantis mantis introduction to atheism a...  \n",
       "2  dbstu1 tu-bs mimsy umd edu umd edu gospel dati...  \n",
       "3  mantis kepler unh edu university violating sep...  \n",
       "4  watson ibm com harder ccr-p ida org harder ccr...  "
      ]
     },
     "execution_count": 5,
     "metadata": {},
     "output_type": "execute_result"
    }
   ],
   "source": [
    "# combining the email, subject and text columns\n",
    "data['combined_text'] = data['processed_email'] + ' ' + data['processed_subject'] + ' ' + data['processed_text']\n",
    "data.head()"
   ]
  },
  {
   "cell_type": "code",
   "execution_count": 6,
   "metadata": {},
   "outputs": [
    {
     "data": {
      "text/html": [
       "<div>\n",
       "<style scoped>\n",
       "    .dataframe tbody tr th:only-of-type {\n",
       "        vertical-align: middle;\n",
       "    }\n",
       "\n",
       "    .dataframe tbody tr th {\n",
       "        vertical-align: top;\n",
       "    }\n",
       "\n",
       "    .dataframe thead th {\n",
       "        text-align: right;\n",
       "    }\n",
       "</style>\n",
       "<table border=\"1\" class=\"dataframe\">\n",
       "  <thead>\n",
       "    <tr style=\"text-align: right;\">\n",
       "      <th></th>\n",
       "      <th>file_id</th>\n",
       "      <th>class_label</th>\n",
       "      <th>text</th>\n",
       "      <th>processed_email</th>\n",
       "      <th>processed_subject</th>\n",
       "      <th>processed_text</th>\n",
       "      <th>combined_text</th>\n",
       "    </tr>\n",
       "  </thead>\n",
       "  <tbody>\n",
       "    <tr>\n",
       "      <th>0</th>\n",
       "      <td>alt.atheism_49960.txt</td>\n",
       "      <td>0</td>\n",
       "      <td>From: mathew &lt;mathew@mantis.co.uk&gt;\\nSubject: A...</td>\n",
       "      <td>mantis netcom mantis</td>\n",
       "      <td>atheist resources</td>\n",
       "      <td>archive alt atheism archive resources last dec...</td>\n",
       "      <td>mantis netcom mantis atheist resources archive...</td>\n",
       "    </tr>\n",
       "    <tr>\n",
       "      <th>1</th>\n",
       "      <td>alt.atheism_51060.txt</td>\n",
       "      <td>0</td>\n",
       "      <td>From: mathew &lt;mathew@mantis.co.uk&gt;\\nSubject: A...</td>\n",
       "      <td>mantis mantis mantis</td>\n",
       "      <td>introduction to atheism</td>\n",
       "      <td>archive alt atheism archive introduction last ...</td>\n",
       "      <td>mantis mantis mantis introduction to atheism a...</td>\n",
       "    </tr>\n",
       "    <tr>\n",
       "      <th>2</th>\n",
       "      <td>alt.atheism_51119.txt</td>\n",
       "      <td>0</td>\n",
       "      <td>From: I3150101@dbstu1.rz.tu-bs.de (Benedikt Ro...</td>\n",
       "      <td>dbstu1 tu-bs mimsy umd edu umd edu</td>\n",
       "      <td>gospel dating</td>\n",
       "      <td>article well has quite different not necessari...</td>\n",
       "      <td>dbstu1 tu-bs mimsy umd edu umd edu gospel dati...</td>\n",
       "    </tr>\n",
       "    <tr>\n",
       "      <th>3</th>\n",
       "      <td>alt.atheism_51120.txt</td>\n",
       "      <td>0</td>\n",
       "      <td>From: mathew &lt;mathew@mantis.co.uk&gt;\\nSubject: R...</td>\n",
       "      <td>mantis kepler unh edu</td>\n",
       "      <td>university violating separation of church state</td>\n",
       "      <td>recently ras have been ordered post religious ...</td>\n",
       "      <td>mantis kepler unh edu university violating sep...</td>\n",
       "    </tr>\n",
       "    <tr>\n",
       "      <th>4</th>\n",
       "      <td>alt.atheism_51121.txt</td>\n",
       "      <td>0</td>\n",
       "      <td>From: strom@Watson.Ibm.Com (Rob Strom)\\nSubjec...</td>\n",
       "      <td>watson ibm com harder ccr-p ida org harder ccr...</td>\n",
       "      <td>soc motss et al princeton axes matching funds ...</td>\n",
       "      <td>article however hate economic terrorism and po...</td>\n",
       "      <td>watson ibm com harder ccr-p ida org harder ccr...</td>\n",
       "    </tr>\n",
       "  </tbody>\n",
       "</table>\n",
       "</div>"
      ],
      "text/plain": [
       "                 file_id  class_label  \\\n",
       "0  alt.atheism_49960.txt            0   \n",
       "1  alt.atheism_51060.txt            0   \n",
       "2  alt.atheism_51119.txt            0   \n",
       "3  alt.atheism_51120.txt            0   \n",
       "4  alt.atheism_51121.txt            0   \n",
       "\n",
       "                                                text  \\\n",
       "0  From: mathew <mathew@mantis.co.uk>\\nSubject: A...   \n",
       "1  From: mathew <mathew@mantis.co.uk>\\nSubject: A...   \n",
       "2  From: I3150101@dbstu1.rz.tu-bs.de (Benedikt Ro...   \n",
       "3  From: mathew <mathew@mantis.co.uk>\\nSubject: R...   \n",
       "4  From: strom@Watson.Ibm.Com (Rob Strom)\\nSubjec...   \n",
       "\n",
       "                                     processed_email  \\\n",
       "0                               mantis netcom mantis   \n",
       "1                               mantis mantis mantis   \n",
       "2                 dbstu1 tu-bs mimsy umd edu umd edu   \n",
       "3                              mantis kepler unh edu   \n",
       "4  watson ibm com harder ccr-p ida org harder ccr...   \n",
       "\n",
       "                                   processed_subject  \\\n",
       "0                                  atheist resources   \n",
       "1                            introduction to atheism   \n",
       "2                                      gospel dating   \n",
       "3    university violating separation of church state   \n",
       "4  soc motss et al princeton axes matching funds ...   \n",
       "\n",
       "                                      processed_text  \\\n",
       "0  archive alt atheism archive resources last dec...   \n",
       "1  archive alt atheism archive introduction last ...   \n",
       "2  article well has quite different not necessari...   \n",
       "3  recently ras have been ordered post religious ...   \n",
       "4  article however hate economic terrorism and po...   \n",
       "\n",
       "                                       combined_text  \n",
       "0  mantis netcom mantis atheist resources archive...  \n",
       "1  mantis mantis mantis introduction to atheism a...  \n",
       "2  dbstu1 tu-bs mimsy umd edu umd edu gospel dati...  \n",
       "3  mantis kepler unh edu university violating sep...  \n",
       "4  watson ibm com harder ccr-p ida org harder ccr...  "
      ]
     },
     "execution_count": 6,
     "metadata": {},
     "output_type": "execute_result"
    }
   ],
   "source": [
    "# converting the class labels to integer\n",
    "data['class_label'] = data['class_label'].astype('category').cat.codes\n",
    "data.head()"
   ]
  },
  {
   "cell_type": "code",
   "execution_count": 7,
   "metadata": {},
   "outputs": [],
   "source": [
    "X = data['combined_text']\n",
    "Y = data['class_label']"
   ]
  },
  {
   "cell_type": "code",
   "execution_count": 8,
   "metadata": {},
   "outputs": [
    {
     "name": "stdout",
     "output_type": "stream",
     "text": [
      "The number of points in training data: 14121\n",
      "The number of points in test data: 4707\n"
     ]
    }
   ],
   "source": [
    "# splitting our data into train and test\n",
    "from sklearn.model_selection import train_test_split\n",
    "X_train, X_test, y_train, y_test = train_test_split(X,Y,test_size=0.25,stratify=Y,random_state=23)\n",
    "print(f'The number of points in training data: {X_train.shape[0]}')\n",
    "print(f'The number of points in test data: {X_test.shape[0]}')"
   ]
  },
  {
   "cell_type": "code",
   "execution_count": 9,
   "metadata": {},
   "outputs": [],
   "source": [
    "# converting class labels into one hot encoded vectors\n",
    "y_train = tf.keras.utils.to_categorical(y_train, 20)\n",
    "y_test = tf.keras.utils.to_categorical(y_test, 20)"
   ]
  },
  {
   "cell_type": "markdown",
   "metadata": {},
   "source": [
    "## Tokenizing Text Data"
   ]
  },
  {
   "cell_type": "markdown",
   "metadata": {},
   "source": [
    "### Determining Maximum Number of Words"
   ]
  },
  {
   "cell_type": "markdown",
   "metadata": {},
   "source": [
    "Now in order to decide the maximum number of words to keep in our vocabulary we will follow the below steps:\n",
    "- Find out total number of unique words in our training data (m)\n",
    "- Find out the number of words which occur less than or equal to two times (n)\n",
    "- We will then keep only the (m - n) top words, i.e. eliminate all words which occur only once\n",
    "\n",
    "In essence we will be only keeping those words which occur atleast twice in our corpus."
   ]
  },
  {
   "cell_type": "code",
   "execution_count": 10,
   "metadata": {},
   "outputs": [
    {
     "name": "stdout",
     "output_type": "stream",
     "text": [
      "Number of unique words in vocabulary: 72468\n"
     ]
    }
   ],
   "source": [
    "from tensorflow.keras.preprocessing.text import Tokenizer\n",
    "\n",
    "# initially we will tokenize the corpus without passing any parameter for num_words \n",
    "\n",
    "word_tokenizer = Tokenizer(num_words=None,\n",
    "                      filters='!\"#$%&()*+,-./:;<=>?@[\\\\]^`{|}~\\t\\n') # filter inludes all special characters except '_'\n",
    "word_tokenizer.fit_on_texts(X_train)\n",
    "total_words = len(word_tokenizer.word_index)\n",
    "print(f'Number of unique words in vocabulary: {total_words}')\n"
   ]
  },
  {
   "cell_type": "code",
   "execution_count": 11,
   "metadata": {},
   "outputs": [
    {
     "name": "stdout",
     "output_type": "stream",
     "text": [
      "Number of words which in our vocabulary which occur twice or less: 28344\n",
      "Number of words which occur at least two times: 44124\n"
     ]
    }
   ],
   "source": [
    "# finding the number of words which occur only twice or less\n",
    "num_words = 0\n",
    "for word,count in word_tokenizer.word_counts.items():\n",
    "    if count < 2:\n",
    "        num_words += 1\n",
    "\n",
    "print(f'Number of words which in our vocabulary which occur twice or less: {num_words}')\n",
    "\n",
    "# finding max number of words we need to consider\n",
    "max_words = total_words - num_words\n",
    "print(f'Number of words which occur at least two times: {max_words}')\n",
    "    "
   ]
  },
  {
   "cell_type": "markdown",
   "metadata": {},
   "source": [
    "Hence we will be only considering the top 44,124 words from our vocabulary"
   ]
  },
  {
   "cell_type": "markdown",
   "metadata": {},
   "source": [
    "### Determining Max Length for Padding"
   ]
  },
  {
   "cell_type": "markdown",
   "metadata": {},
   "source": [
    "In order to determine the appropriate max length for padding our documents we will be analyzing the percentiles of document lengths in our training dataset"
   ]
  },
  {
   "cell_type": "code",
   "execution_count": 12,
   "metadata": {},
   "outputs": [
    {
     "name": "stdout",
     "output_type": "stream",
     "text": [
      "0 percentile value is 3.0\n",
      "10 percentile value is 39.0\n",
      "20 percentile value is 57.0\n",
      "30 percentile value is 73.0\n",
      "40 percentile value is 90.0\n",
      "50 percentile value is 110.0\n",
      "60 percentile value is 135.0\n",
      "70 percentile value is 169.0\n",
      "80 percentile value is 221.0\n",
      "90 percentile value is 337.0\n",
      "100 percentile value is 8802.0\n"
     ]
    }
   ],
   "source": [
    "# storing all document lengths in a list\n",
    "document_lengths = []\n",
    "\n",
    "for doc in X_train:\n",
    "    length = len(doc.split())\n",
    "    document_lengths.append(length)\n",
    "\n",
    "# finding the percentile values from 0 to 100 incrementing by 10 each iteration\n",
    "for i in range(0,110,10):\n",
    "    per_val = np.percentile(document_lengths,i)\n",
    "    print(f'{i} percentile value is {per_val}')"
   ]
  },
  {
   "cell_type": "markdown",
   "metadata": {},
   "source": [
    "As observed there is a significant jump between 90th and 100th percentile value and hence we should zoom in further in this range to analyze the document lengths."
   ]
  },
  {
   "cell_type": "code",
   "execution_count": 13,
   "metadata": {
    "scrolled": true
   },
   "outputs": [
    {
     "name": "stdout",
     "output_type": "stream",
     "text": [
      "90 percentile value is 337.0\n",
      "91 percentile value is 356.0\n",
      "92 percentile value is 383.0\n",
      "93 percentile value is 422.60000000000036\n",
      "94 percentile value is 458.0\n",
      "95 percentile value is 510.0\n",
      "96 percentile value is 573.1999999999989\n",
      "97 percentile value is 685.0\n",
      "98 percentile value is 890.0\n",
      "99 percentile value is 1369.5999999999985\n",
      "100 percentile value is 8802.0\n"
     ]
    }
   ],
   "source": [
    "# finding the percentile values between 90 and 100 incrementing by 1 each iteration\n",
    "for i in range(90,101):\n",
    "    per_val = np.percentile(document_lengths,i)\n",
    "    print(f'{i} percentile value is {per_val}')"
   ]
  },
  {
   "cell_type": "markdown",
   "metadata": {},
   "source": [
    "As observed from the above percentile values 95% of the documents have a length of less than around 500 tokens. We can consider this as the max length for padding our sequences as we can retain information in most of our documents and also not have too much of an impact on the computational power required."
   ]
  },
  {
   "cell_type": "markdown",
   "metadata": {},
   "source": [
    "### Tokenizing and Padding\n",
    "    "
   ]
  },
  {
   "cell_type": "code",
   "execution_count": 14,
   "metadata": {},
   "outputs": [],
   "source": [
    "# we will now fit the tokenizer on the training data and convert train and text into integer sequences along with padding\n",
    "\n",
    "word_tokenizer = Tokenizer(num_words=max_words + 1,\n",
    "                      filters='!\"#$%&()*+,-./:;<=>?@[\\\\]^`{|}~\\t\\n') # filter inludes all special characters except '_'\n",
    "word_tokenizer.fit_on_texts(X_train)\n",
    "\n",
    "# converting train and test into integere sequences\n",
    "x_train = word_tokenizer.texts_to_sequences(X_train)\n",
    "x_test = word_tokenizer.texts_to_sequences(X_test)"
   ]
  },
  {
   "cell_type": "code",
   "execution_count": 15,
   "metadata": {},
   "outputs": [
    {
     "name": "stdout",
     "output_type": "stream",
     "text": [
      "[9802, 9501, 8686, 10, 9501, 8686, 10, 9802, 53, 140, 23, 8687, 5836, 4369, 26, 1232, 21722, 28, 256, 4369, 344, 2, 97, 175, 887, 5836, 4369, 298, 5422, 8, 1, 256, 24169, 11240, 432, 145, 1, 693, 3378, 1, 2140, 6047, 60, 5422, 145, 1, 693, 2140, 1346, 1, 19680, 3, 28, 4024, 7, 1, 11, 693, 2, 3, 60, 4024, 1, 693, 2140, 12, 3277, 1, 99, 563, 1, 2841, 2140, 155, 85, 140, 189, 3, 15, 7, 1, 99, 2413, 1782, 5177, 1, 4209, 18, 1, 2841, 96, 1, 693, 2564, 80, 21723, 11240, 7009, 5422, 19, 241, 11, 1873, 85, 178, 178, 1, 693, 2140, 6, 1011, 401, 883, 2862, 164, 832, 1868, 9, 316, 3, 20, 1673, 2485, 1566, 228, 883, 1265, 2285, 1, 693, 2140, 68, 5, 8, 6875, 28, 43, 72, 1, 99, 58, 1, 2841, 2140, 77, 1931, 100, 1, 660, 6, 1, 1419, 2140, 110, 401, 15775, 38, 20, 2485, 1566, 5, 2268, 1845, 1451, 66, 1519, 8437, 6875, 5836, 5, 17, 3200, 1844, 5837, 462, 163, 2841, 2, 693, 14, 8, 883, 1751, 645, 1, 4423, 2560, 13, 3313, 2427, 3313, 240, 19, 5, 17, 5, 91, 279, 11240, 5422, 145, 1470, 4369, 55, 12805, 5836, 184, 2379, 92, 5, 8, 1400, 25, 80, 5836, 12805, 70, 957, 20, 565, 2413, 4369, 609, 3346, 2, 216, 1060, 557, 66, 219, 2398, 60, 815, 2, 5, 59, 204, 146, 121, 771, 27, 34, 345, 16, 160, 464, 5, 14082, 464, 85, 2, 16, 358, 1, 4640, 1293, 233, 85, 1, 629]\n"
     ]
    }
   ],
   "source": [
    "# printing output of a single document\n",
    "print(x_train[23])"
   ]
  },
  {
   "cell_type": "code",
   "execution_count": 16,
   "metadata": {},
   "outputs": [
    {
     "name": "stdout",
     "output_type": "stream",
     "text": [
      "Shape of Training Data: (14121, 500)\n",
      "Shape of Test Data: (4707, 500)\n"
     ]
    }
   ],
   "source": [
    "from tensorflow.keras.preprocessing.sequence import pad_sequences\n",
    "\n",
    "# padding of all sequences to max length of 500\n",
    "max_length = 500\n",
    "\n",
    "x_train = pad_sequences(sequences=x_train, maxlen=max_length, padding='post', truncating='post')\n",
    "x_test = pad_sequences(sequences=x_test, maxlen=max_length, padding='post', truncating='post')\n",
    "\n",
    "print(f'Shape of Training Data: {x_train.shape}')\n",
    "print(f'Shape of Test Data: {x_test.shape}')"
   ]
  },
  {
   "cell_type": "markdown",
   "metadata": {},
   "source": [
    "## Loading Pre-Defined Glove Vectors"
   ]
  },
  {
   "cell_type": "markdown",
   "metadata": {},
   "source": [
    "We will be loading pre-defined glove vectors and use them in our embedding layer. We will be using 300 dimensional representation which have been trained on 42B tokens.\n",
    "\n",
    "https://nlp.stanford.edu/projects/glove/"
   ]
  },
  {
   "cell_type": "code",
   "execution_count": 34,
   "metadata": {},
   "outputs": [
    {
     "name": "stderr",
     "output_type": "stream",
     "text": [
      "1917494it [06:41, 4770.72it/s]"
     ]
    },
    {
     "name": "stdout",
     "output_type": "stream",
     "text": [
      "Loaded 300d vector representations corresponding to 1917494 words\n"
     ]
    },
    {
     "name": "stderr",
     "output_type": "stream",
     "text": [
      "\n"
     ]
    }
   ],
   "source": [
    "# reference https://machinelearningmastery.com/use-word-embedding-layers-deep-learning-keras/\n",
    "\n",
    "# loading pre-defined word embeddings and storing them as a dict\n",
    "word_embeddings = dict()\n",
    "with open('glove.42B.300d.txt',encoding='utf-8') as f:\n",
    "    for line in tqdm(f):\n",
    "        # extracting the token and corresponsing embedding\n",
    "        token = line.split()[0]  \n",
    "        vector = np.asarray(line.split()[1:], dtype='float32')\n",
    "        word_embeddings[token] = vector\n",
    "        \n",
    "print(f'Loaded 300d vector representations corresponding to {len(word_embeddings)} words')        "
   ]
  },
  {
   "cell_type": "code",
   "execution_count": 56,
   "metadata": {},
   "outputs": [
    {
     "name": "stdout",
     "output_type": "stream",
     "text": [
      "Shape of Embedding Matrix (44125, 300)\n"
     ]
    }
   ],
   "source": [
    "# creating a weight matrix for words in our training vocab\n",
    "vocab_size = max_words + 1\n",
    "embedding_matrix = np.zeros((vocab_size,300))\n",
    "\n",
    "for word,index in tokenizer.word_index.items():\n",
    "    # only considering max words\n",
    "    if index < vocab_size:\n",
    "        glove_vector = word_embeddings.get(word)\n",
    "        # updating our weight matrix if glove vector corresponding to word exists\n",
    "        if glove_vector is not None:\n",
    "            embedding_matrix[index] = glove_vector\n",
    "            \n",
    "print(f'Shape of Embedding Matrix {embedding_matrix.shape}')        "
   ]
  },
  {
   "cell_type": "code",
   "execution_count": 57,
   "metadata": {},
   "outputs": [],
   "source": [
    "# saving our embedding matrix on disk\n",
    "np.save('word_embedding_matrix.npy',embedding_matrix)"
   ]
  },
  {
   "cell_type": "code",
   "execution_count": 17,
   "metadata": {},
   "outputs": [
    {
     "name": "stdout",
     "output_type": "stream",
     "text": [
      "(44125, 300)\n"
     ]
    }
   ],
   "source": [
    "# loading our embedding matrix\n",
    "with open('word_embedding_matrix.npy','rb') as f:\n",
    "    word_embedding_matrix = np.load(f)\n",
    "\n",
    "print(word_embedding_matrix.shape)"
   ]
  },
  {
   "cell_type": "markdown",
   "metadata": {},
   "source": [
    "## Defining Callbacks"
   ]
  },
  {
   "cell_type": "code",
   "execution_count": 18,
   "metadata": {},
   "outputs": [],
   "source": [
    "%load_ext tensorboard\n",
    "import datetime"
   ]
  },
  {
   "cell_type": "code",
   "execution_count": 19,
   "metadata": {},
   "outputs": [],
   "source": [
    "# callback for custom metric: micro_f1_score\n",
    "# reference: https://stackoverflow.com/questions/60616842/how-to-get-other-metrics-in-tensorflow-2-0-not-only-accuracy\n",
    "from sklearn.metrics import f1_score\n",
    "\n",
    "class CustomMetrics(tf.keras.callbacks.Callback):\n",
    "\n",
    "    def __init__(self,val_data,val_labels):\n",
    "        '''\n",
    "        This function initializes callback object to \n",
    "        compute custom metrics\n",
    "        '''\n",
    "        self.val_data = val_data\n",
    "        self.val_labels = val_labels\n",
    "    \n",
    "    def on_epoch_end(self,epoch,logs={}):\n",
    "        '''\n",
    "        This function computes the micro f1 score at \n",
    "        the end of each epoch\n",
    "        '''\n",
    "        \n",
    "        # getting the true class labels\n",
    "        val_true_labels = np.argmax(self.val_labels, axis=1)\n",
    "\n",
    "        # predicting the class labels of validation set\n",
    "        val_pred_labels = np.argmax(self.model.predict(self.val_data), axis=1)\n",
    "\n",
    "        # computing the micro f1 score\n",
    "        micro_f1 = f1_score(val_true_labels,val_pred_labels,average='micro')\n",
    "\n",
    "        print(f'micro_f1_score: {round(micro_f1,4)}')\n",
    "\n",
    "\n",
    "def tf_callback(model_num=None):\n",
    "    '''\n",
    "    This function returns a tensorboard callback object\n",
    "    '''\n",
    "    \n",
    "    # specifiying the directory structure and instantiating tensorboard callback object\n",
    "    log_dir = f\"logs/fit/{model_num}/\" + datetime.datetime.now().strftime(\"%Y%m%d-%H%M%S\")\n",
    "    cb = tf.keras.callbacks.TensorBoard(log_dir=log_dir, histogram_freq=1)\n",
    "    \n",
    "    return cb"
   ]
  },
  {
   "cell_type": "markdown",
   "metadata": {},
   "source": [
    "## Defining Model Architecture"
   ]
  },
  {
   "cell_type": "code",
   "execution_count": 22,
   "metadata": {},
   "outputs": [
    {
     "name": "stdout",
     "output_type": "stream",
     "text": [
      "Model: \"model\"\n",
      "__________________________________________________________________________________________________\n",
      "Layer (type)                    Output Shape         Param #     Connected to                     \n",
      "==================================================================================================\n",
      "input_2 (InputLayer)            [(None, 500)]        0                                            \n",
      "__________________________________________________________________________________________________\n",
      "embedding (Embedding)           (None, 500, 300)     13237500    input_2[0][0]                    \n",
      "__________________________________________________________________________________________________\n",
      "conv1d (Conv1D)                 (None, 500, 50)      45050       embedding[0][0]                  \n",
      "__________________________________________________________________________________________________\n",
      "conv1d_1 (Conv1D)               (None, 500, 50)      60050       embedding[0][0]                  \n",
      "__________________________________________________________________________________________________\n",
      "conv1d_2 (Conv1D)               (None, 500, 50)      75050       embedding[0][0]                  \n",
      "__________________________________________________________________________________________________\n",
      "concatenate (Concatenate)       (None, 500, 150)     0           conv1d[0][0]                     \n",
      "                                                                 conv1d_1[0][0]                   \n",
      "                                                                 conv1d_2[0][0]                   \n",
      "__________________________________________________________________________________________________\n",
      "max_pooling1d (MaxPooling1D)    (None, 499, 150)     0           concatenate[0][0]                \n",
      "__________________________________________________________________________________________________\n",
      "conv1d_3 (Conv1D)               (None, 499, 50)      22550       max_pooling1d[0][0]              \n",
      "__________________________________________________________________________________________________\n",
      "conv1d_4 (Conv1D)               (None, 499, 50)      30050       max_pooling1d[0][0]              \n",
      "__________________________________________________________________________________________________\n",
      "conv1d_5 (Conv1D)               (None, 499, 50)      37550       max_pooling1d[0][0]              \n",
      "__________________________________________________________________________________________________\n",
      "concatenate_1 (Concatenate)     (None, 499, 150)     0           conv1d_3[0][0]                   \n",
      "                                                                 conv1d_4[0][0]                   \n",
      "                                                                 conv1d_5[0][0]                   \n",
      "__________________________________________________________________________________________________\n",
      "max_pooling1d_1 (MaxPooling1D)  (None, 498, 150)     0           concatenate_1[0][0]              \n",
      "__________________________________________________________________________________________________\n",
      "conv1d_6 (Conv1D)               (None, 494, 50)      37550       max_pooling1d_1[0][0]            \n",
      "__________________________________________________________________________________________________\n",
      "flatten (Flatten)               (None, 24700)        0           conv1d_6[0][0]                   \n",
      "__________________________________________________________________________________________________\n",
      "dropout (Dropout)               (None, 24700)        0           flatten[0][0]                    \n",
      "__________________________________________________________________________________________________\n",
      "dense (Dense)                   (None, 32)           790432      dropout[0][0]                    \n",
      "__________________________________________________________________________________________________\n",
      "dense_1 (Dense)                 (None, 20)           660         dense[0][0]                      \n",
      "==================================================================================================\n",
      "Total params: 14,336,442\n",
      "Trainable params: 1,098,942\n",
      "Non-trainable params: 13,237,500\n",
      "__________________________________________________________________________________________________\n"
     ]
    }
   ],
   "source": [
    "# reference paper: https://cs230.stanford.edu/files_winter_2018/projects/6937311.pdf\n",
    "from tensorflow.keras import Input\n",
    "from tensorflow.keras import Model\n",
    "from tensorflow.keras.layers import Dense\n",
    "from tensorflow.keras.layers import Flatten\n",
    "from tensorflow.keras.layers import Dropout\n",
    "from tensorflow.keras.layers import Embedding\n",
    "from tensorflow.keras.layers import Conv1D\n",
    "from tensorflow.keras.layers import MaxPooling1D\n",
    "from tensorflow.keras.layers import concatenate\n",
    "from tensorflow.keras.initializers import HeNormal\n",
    "from tensorflow.keras.regularizers import L2\n",
    "from tensorflow.keras.callbacks import EarlyStopping\n",
    "from tensorflow.keras.callbacks import ModelCheckpoint\n",
    "\n",
    "# defining kernel initializer and regularizer\n",
    "initializer = HeNormal()\n",
    "regularizer = L2(l2=0.01)\n",
    "\n",
    "# defining input and embedding layers\n",
    "input_layer = Input(shape=(max_length,))\n",
    "embedding = Embedding(input_dim=vocab_size,output_dim=300,input_length=max_length,weights=[word_embedding_matrix],trainable=False)(input_layer)\n",
    "\n",
    "# defining the first set of conv1d layers\n",
    "conv_a_1 = Conv1D(50,3,1,activation='relu',kernel_initializer=initializer,padding='same')(embedding)\n",
    "conv_a_2 = Conv1D(50,4,1,activation='relu',kernel_initializer=initializer,padding='same')(embedding)\n",
    "conv_a_3 = Conv1D(50,5,1,activation='relu',kernel_initializer=initializer,padding='same')(embedding)\n",
    "\n",
    "# concatenating and max pool first set of conv1d layers\n",
    "concat_a = concatenate([conv_a_1,conv_a_2,conv_a_3])\n",
    "maxpool_a = MaxPooling1D(pool_size=2,strides=1)(concat_a)\n",
    "\n",
    "# defining the second set of conv1d layers\n",
    "conv_b_1 = Conv1D(50,3,1,activation='relu',kernel_initializer=initializer,padding='same')(maxpool_a)\n",
    "conv_b_2 = Conv1D(50,4,1,activation='relu',kernel_initializer=initializer,padding='same')(maxpool_a)\n",
    "conv_b_3 = Conv1D(50,5,1,activation='relu',kernel_initializer=initializer,padding='same')(maxpool_a)\n",
    "\n",
    "# concatenating and max pool second set of conv1d layers\n",
    "concat_b = concatenate([conv_b_1,conv_b_2,conv_b_3])\n",
    "maxpool_b = MaxPooling1D(pool_size=2,strides=1)(concat_b)\n",
    "\n",
    "# final conv1d layer and dense layers\n",
    "conv_c = Conv1D(50,5,1,activation='relu',kernel_initializer=initializer)(maxpool_b)\n",
    "flatten = Flatten()(conv_c)\n",
    "drop_1 = Dropout(rate=0.5)(flatten)\n",
    "dense_1 = Dense(units=32,activation='relu',kernel_initializer=initializer,kernel_regularizer=regularizer)(drop_1)\n",
    "output_layer = Dense(units=20,activation='softmax',kernel_initializer=initializer)(dense_1)\n",
    "\n",
    "# creating the model\n",
    "model = Model(inputs=input_layer,outputs=output_layer)\n",
    "\n",
    "# defining callbacks\n",
    "early_stop = EarlyStopping(monitor='val_accuracy',min_delta=0.02,patience=1,mode='auto',verbose=1)\n",
    "checkpoint = ModelCheckpoint(filepath='models/best_model_1.h5',monitor='val_accuracy',\n",
    "                             verbose=0,save_best_only=True,save_weights_only=True,mode='auto')\n",
    "metric_callback = CustomMetrics(x_test,y_test)\n",
    "tensorboard = tf_callback(model_num=1)\n",
    "callbacks = [early_stop,checkpoint,metric_callback,tensorboard]\n",
    "\n",
    "\n",
    "# compiling the model\n",
    "optimizer = tf.keras.optimizers.Adam(learning_rate=0.001)\n",
    "model.compile(optimizer=optimizer,\n",
    "              loss='categorical_crossentropy',metrics=['accuracy'])\n",
    "\n",
    "model.summary()\n"
   ]
  },
  {
   "cell_type": "code",
   "execution_count": 23,
   "metadata": {},
   "outputs": [
    {
     "name": "stdout",
     "output_type": "stream",
     "text": [
      "Epoch 1/50\n",
      "883/883 [==============================] - 126s 142ms/step - loss: 2.8258 - accuracy: 0.1729 - val_loss: 1.4304 - val_accuracy: 0.6507\n",
      "micro_f1_score: 0.6507\n",
      "Epoch 2/50\n",
      "883/883 [==============================] - 152s 172ms/step - loss: 1.3053 - accuracy: 0.6869 - val_loss: 1.0926 - val_accuracy: 0.7684\n",
      "micro_f1_score: 0.7684\n",
      "Epoch 3/50\n",
      "883/883 [==============================] - 154s 174ms/step - loss: 0.8970 - accuracy: 0.8244 - val_loss: 0.9752 - val_accuracy: 0.8088\n",
      "micro_f1_score: 0.8088\n",
      "Epoch 4/50\n",
      "883/883 [==============================] - 153s 173ms/step - loss: 0.7558 - accuracy: 0.8738 - val_loss: 0.9048 - val_accuracy: 0.8434\n",
      "micro_f1_score: 0.8434\n",
      "Epoch 5/50\n",
      "883/883 [==============================] - 151s 171ms/step - loss: 0.6419 - accuracy: 0.9057 - val_loss: 0.9492 - val_accuracy: 0.8458\n",
      "micro_f1_score: 0.8458\n",
      "Epoch 00005: early stopping\n"
     ]
    },
    {
     "data": {
      "text/plain": [
       "<tensorflow.python.keras.callbacks.History at 0x2366e31f3a0>"
      ]
     },
     "execution_count": 23,
     "metadata": {},
     "output_type": "execute_result"
    }
   ],
   "source": [
    "model.fit(x_train,y_train,validation_data=(x_test,y_test),batch_size=16,epochs=50,callbacks=callbacks)"
   ]
  },
  {
   "cell_type": "markdown",
   "metadata": {},
   "source": [
    "<img src=\"https://i.imgur.com/uznl2zs.png\" width=400>\n",
    "<img src=\"https://i.imgur.com/Jcz4lQ7.png\" width=400>\n",
    "\n",
    "\n"
   ]
  },
  {
   "cell_type": "code",
   "execution_count": 23,
   "metadata": {},
   "outputs": [
    {
     "data": {
      "image/png": "[encoded data removed]",
      "text/plain": [
       "<IPython.core.display.Image object>"
      ]
     },
     "execution_count": 23,
     "metadata": {},
     "output_type": "execute_result"
    }
   ],
   "source": [
    "# plotting model \n",
    "from tensorflow.keras.utils import plot_model\n",
    "path = 'images/plots/model_1.png'\n",
    "plot_model(model,to_file=path)"
   ]
  }
 ],
 "metadata": {
  "kernelspec": {
   "display_name": "Python 3",
   "language": "python",
   "name": "python3"
  },
  "language_info": {
   "codemirror_mode": {
    "name": "ipython",
    "version": 3
   },
   "file_extension": ".py",
   "mimetype": "text/x-python",
   "name": "python",
   "nbconvert_exporter": "python",
   "pygments_lexer": "ipython3",
   "version": "3.8.5"
  }
 },
 "nbformat": 4,
 "nbformat_minor": 4
}
